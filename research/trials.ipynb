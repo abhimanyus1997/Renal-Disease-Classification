{
 "cells": [
  {
   "cell_type": "code",
   "execution_count": 3,
   "metadata": {},
   "outputs": [],
   "source": [
    "import os\n",
    "import kaggle\n",
    "import zipfile"
   ]
  },
  {
   "cell_type": "code",
   "execution_count": 4,
   "metadata": {},
   "outputs": [
    {
     "data": {
      "text/plain": [
       "'abhimanyus1997'"
      ]
     },
     "execution_count": 4,
     "metadata": {},
     "output_type": "execute_result"
    }
   ],
   "source": [
    "api = kaggle.api\n",
    "api.get_config_value(\"username\")"
   ]
  },
  {
   "cell_type": "code",
   "execution_count": 5,
   "metadata": {},
   "outputs": [
    {
     "data": {
      "text/plain": [
       "'/home/senu/PROJECTS/MedicalAIProjects/RenalDiseaseClassification/Renal-Disease-Classification/research'"
      ]
     },
     "execution_count": 5,
     "metadata": {},
     "output_type": "execute_result"
    }
   ],
   "source": [
    "ddir = kaggle.api.get_default_download_dir()\n",
    "ddir"
   ]
  },
  {
   "cell_type": "code",
   "execution_count": 8,
   "metadata": {},
   "outputs": [
    {
     "data": {
      "text/plain": [
       "'2GB'"
      ]
     },
     "execution_count": 8,
     "metadata": {},
     "output_type": "execute_result"
    }
   ],
   "source": [
    "datasets.size"
   ]
  },
  {
   "cell_type": "code",
   "execution_count": 7,
   "metadata": {},
   "outputs": [
    {
     "data": {
      "text/plain": [
       "{'subtitleNullable': 'Dataset to detect auto Kidney Disease Analysis',\n",
       " 'creatorNameNullable': 'MD NAZMUL ISLAM',\n",
       " 'creatorUrlNullable': 'nazmul0087',\n",
       " 'totalBytesNullable': 1627919308,\n",
       " 'urlNullable': 'https://www.kaggle.com/datasets/nazmul0087/ct-kidney-dataset-normal-cyst-tumor-and-stone',\n",
       " 'licenseNameNullable': 'Data files © Original Authors',\n",
       " 'descriptionNullable': None,\n",
       " 'ownerNameNullable': 'MD NAZMUL ISLAM',\n",
       " 'ownerRefNullable': 'nazmul0087',\n",
       " 'titleNullable': 'CT KIDNEY DATASET: Normal-Cyst-Tumor and Stone',\n",
       " 'currentVersionNumberNullable': 1,\n",
       " 'usabilityRatingNullable': 1.0,\n",
       " 'id': 1686903,\n",
       " 'ref': 'nazmul0087/ct-kidney-dataset-normal-cyst-tumor-and-stone',\n",
       " 'subtitle': 'Dataset to detect auto Kidney Disease Analysis',\n",
       " 'hasSubtitle': True,\n",
       " 'creatorName': 'MD NAZMUL ISLAM',\n",
       " 'hasCreatorName': True,\n",
       " 'creatorUrl': 'nazmul0087',\n",
       " 'hasCreatorUrl': True,\n",
       " 'totalBytes': 1627919308,\n",
       " 'hasTotalBytes': True,\n",
       " 'url': 'https://www.kaggle.com/datasets/nazmul0087/ct-kidney-dataset-normal-cyst-tumor-and-stone',\n",
       " 'hasUrl': True,\n",
       " 'lastUpdated': datetime.datetime(2021, 11, 1, 5, 6, 16),\n",
       " 'downloadCount': 6906,\n",
       " 'isPrivate': False,\n",
       " 'isFeatured': False,\n",
       " 'licenseName': 'Data files © Original Authors',\n",
       " 'hasLicenseName': True,\n",
       " 'description': '',\n",
       " 'hasDescription': False,\n",
       " 'ownerName': 'MD NAZMUL ISLAM',\n",
       " 'hasOwnerName': True,\n",
       " 'ownerRef': 'nazmul0087',\n",
       " 'hasOwnerRef': True,\n",
       " 'kernelCount': 28,\n",
       " 'title': 'CT KIDNEY DATASET: Normal-Cyst-Tumor and Stone',\n",
       " 'hasTitle': True,\n",
       " 'topicCount': 0,\n",
       " 'viewCount': 50564,\n",
       " 'voteCount': 94,\n",
       " 'currentVersionNumber': 1,\n",
       " 'hasCurrentVersionNumber': True,\n",
       " 'usabilityRating': 1.0,\n",
       " 'hasUsabilityRating': True,\n",
       " 'tags': [health conditions],\n",
       " 'files': [],\n",
       " 'versions': [],\n",
       " 'size': '2GB'}"
      ]
     },
     "execution_count": 7,
     "metadata": {},
     "output_type": "execute_result"
    }
   ],
   "source": [
    "datasets = kaggle.api.dataset_list(search=\"nazmul0087/ct-kidney-dataset-normal-cyst-tumor-and-stone\")[0]\n",
    "vars(datasets)"
   ]
  },
  {
   "cell_type": "code",
   "execution_count": 11,
   "metadata": {},
   "outputs": [
    {
     "name": "stdout",
     "output_type": "stream",
     "text": [
      "Dataset downloaded to dataset_download\n"
     ]
    }
   ],
   "source": [
    "import os\n",
    "import kaggle\n",
    "import zipfile\n",
    "\n",
    "# Set the Kaggle API key and dataset name\n",
    "os.environ['KAGGLE_USERNAME'] = 'your_kaggle_username'\n",
    "os.environ['KAGGLE_KEY'] = 'your_kaggle_api_key'\n",
    "dataset_name = 'nazmul0087/ct-kidney-dataset-normal-cyst-tumor-and-stone'\n",
    "\n",
    "# List the files in the dataset\n",
    "datasets = kaggle.api.dataset_list(search=dataset_name)[0]\n",
    "\n",
    "# Create a directory for downloading the dataset\n",
    "download_dir = 'dataset_download'\n",
    "os.makedirs(download_dir, exist_ok=True)\n",
    "\n",
    "# Download the files from the dataset\n",
    "kaggle.api.dataset_download_files(dataset=dataset_name, path=download_dir, unzip=False)\n",
    "print(\"Dataset downloaded to\", download_dir)"
   ]
  },
  {
   "cell_type": "code",
   "execution_count": 12,
   "metadata": {},
   "outputs": [
    {
     "name": "stdout",
     "output_type": "stream",
     "text": [
      "Dataset extracted to dataset_download\n"
     ]
    }
   ],
   "source": [
    "# Unzip the downloaded files\n",
    "with zipfile.ZipFile(os.path.join(download_dir, 'ct-kidney-dataset-normal-cyst-tumor-and-stone.zip'), 'r') as zip_ref:\n",
    "    zip_ref.extractall(download_dir)\n",
    "\n",
    "print(\"Dataset extracted to\", download_dir)"
   ]
  },
  {
   "cell_type": "code",
   "execution_count": null,
   "metadata": {},
   "outputs": [],
   "source": [
    "path = \"RenalDiseaseClassification/Renal-Disease-Classification/research/dataset_download/CT-KIDNEY-DATASET-Normal-Cyst-Tumor-Stone\""
   ]
  },
  {
   "cell_type": "code",
   "execution_count": 4,
   "metadata": {},
   "outputs": [
    {
     "data": {
      "text/plain": [
       "'/home/senu/PROJECTS/MedicalAIProjects/RenalDiseaseClassification/Renal-Disease-Classification/research'"
      ]
     },
     "execution_count": 4,
     "metadata": {},
     "output_type": "execute_result"
    }
   ],
   "source": [
    "%pwd"
   ]
  },
  {
   "cell_type": "code",
   "execution_count": 5,
   "metadata": {},
   "outputs": [],
   "source": [
    "from dataclasses import dataclass\n",
    "from pathlib import Path\n",
    "\n",
    "@dataclass(frozen=True)\n",
    "class DataIngestionConfig:\n",
    "    root_dir: Path\n",
    "    kaggle_dataset_url: str\n",
    "    local_data_file: Path\n",
    "    unzip_dir: Path"
   ]
  },
  {
   "cell_type": "code",
   "execution_count": null,
   "metadata": {},
   "outputs": [],
   "source": []
  }
 ],
 "metadata": {
  "kernelspec": {
   "display_name": "Python 3",
   "language": "python",
   "name": "python3"
  },
  "language_info": {
   "codemirror_mode": {
    "name": "ipython",
    "version": 3
   },
   "file_extension": ".py",
   "mimetype": "text/x-python",
   "name": "python",
   "nbconvert_exporter": "python",
   "pygments_lexer": "ipython3",
   "version": "3.10.13"
  }
 },
 "nbformat": 4,
 "nbformat_minor": 2
}
